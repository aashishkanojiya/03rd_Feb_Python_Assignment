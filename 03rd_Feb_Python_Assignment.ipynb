{
  "nbformat": 4,
  "nbformat_minor": 0,
  "metadata": {
    "colab": {
      "provenance": []
    },
    "kernelspec": {
      "name": "python3",
      "display_name": "Python 3"
    },
    "language_info": {
      "name": "python"
    }
  },
  "cells": [
    {
      "cell_type": "markdown",
      "source": [
        "Q1. Which keyword is used to create a function? Create a function to return a list of odd numbers in the\n",
        "range of 1 to 25."
      ],
      "metadata": {
        "id": "OuOQXGC7t50F"
      }
    },
    {
      "cell_type": "markdown",
      "source": [
        "Answer:-"
      ],
      "metadata": {
        "id": "1ySzqsGbt7xs"
      }
    },
    {
      "cell_type": "code",
      "source": [
        "def odd_numbers():\n",
        "    odd_list = []\n",
        "    for i in range(1, 26):\n",
        "        if i % 2 != 0:\n",
        "            odd_list.append(i)\n",
        "    return odd_list\n",
        "odd_numbers()"
      ],
      "metadata": {
        "colab": {
          "base_uri": "https://localhost:8080/"
        },
        "id": "Le2WN04ouE0P",
        "outputId": "0e4ededd-43fc-49ff-c933-0d9a40a775e3"
      },
      "execution_count": 1,
      "outputs": [
        {
          "output_type": "execute_result",
          "data": {
            "text/plain": [
              "[1, 3, 5, 7, 9, 11, 13, 15, 17, 19, 21, 23, 25]"
            ]
          },
          "metadata": {},
          "execution_count": 1
        }
      ]
    },
    {
      "cell_type": "markdown",
      "source": [
        "Q2. Why *args and **kwargs is used in some functions? Create a function each for *args and **kwargs\n",
        "to demonstrate their use."
      ],
      "metadata": {
        "id": "K1ZRX3URue3Q"
      }
    },
    {
      "cell_type": "markdown",
      "source": [
        "Answer:-\n",
        "\n",
        " Here is explanation of *args and **kwargs in Python, along with examples to demonstrate their use.\n",
        "\n",
        "Understanding *args and **kwargs\n",
        "\n",
        "*args: This allows a function to accept any number of positional arguments. The arguments are passed as a tuple.\n",
        "\n",
        "**kwargs: This allows a function to accept any number of keyword arguments. The arguments are passed as a dictionary.\n",
        "\n",
        "Example of Using *args\n",
        "\n",
        "Here’s a function that uses *args to sum any number of numbers:"
      ],
      "metadata": {
        "id": "a_bIAq8SufdP"
      }
    },
    {
      "cell_type": "code",
      "source": [
        "def sum_numbers(*args):\n",
        "    \"\"\"Function to sum any number of arguments.\"\"\"\n",
        "    total = sum(args)  # Sum all the arguments\n",
        "    return total\n",
        "\n",
        "# Call the function with multiple arguments\n",
        "result = sum_numbers(1, 2, 3, 4, 5)\n",
        "print(\"The sum of the numbers is:\", result)"
      ],
      "metadata": {
        "colab": {
          "base_uri": "https://localhost:8080/"
        },
        "id": "xEEQiOWEutI1",
        "outputId": "d4ea682c-1fbe-49ed-8c1b-15d3d86fd984"
      },
      "execution_count": 4,
      "outputs": [
        {
          "output_type": "stream",
          "name": "stdout",
          "text": [
            "The sum of the numbers is: 15\n"
          ]
        }
      ]
    },
    {
      "cell_type": "markdown",
      "source": [
        "Example of Using **kwargs\n",
        "\n",
        "Here’s a function that uses **kwargs to print student information:"
      ],
      "metadata": {
        "id": "QqSNqPCCvzDg"
      }
    },
    {
      "cell_type": "code",
      "source": [
        "def print_student_info(**kwargs):\n",
        "    \"\"\"Function to print student information.\"\"\"\n",
        "    for key, value in kwargs.items():\n",
        "        print(f\"{key}: {value}\")\n",
        "\n",
        "# Call the function with keyword arguments\n",
        "print_student_info(name=\"Alice\", age=20, major=\"Computer Science\")"
      ],
      "metadata": {
        "colab": {
          "base_uri": "https://localhost:8080/"
        },
        "id": "eqozqzmfv2LB",
        "outputId": "7476983c-ec0e-4a8b-ad07-f6e98c46da5f"
      },
      "execution_count": 5,
      "outputs": [
        {
          "output_type": "stream",
          "name": "stdout",
          "text": [
            "name: Alice\n",
            "age: 20\n",
            "major: Computer Science\n"
          ]
        }
      ]
    },
    {
      "cell_type": "markdown",
      "source": [
        "Q3. What is an iterator in python? Name the method used to initialise the iterator object and the method\n",
        "used for iteration. Use these methods to print the first five elements of the given list [2, 4, 6, 8, 10, 12, 14,\n",
        "16, 18, 20]."
      ],
      "metadata": {
        "id": "ipu3b3nOv1yi"
      }
    },
    {
      "cell_type": "markdown",
      "source": [
        "Answer:-\n",
        "\n",
        "In Python, an iterator is an object that allows you to traverse through a collection (like a list, tuple, or dictionary) one element at a time. An iterator implements two methods defined by the iterator protocol:\n",
        "\n",
        "__iter__(): This method initializes the iterator object and returns the iterator itself.\n",
        "\n",
        "__next__(): This method returns the next value from the iterator. When there are no more items to return, it raises a StopIteration exception."
      ],
      "metadata": {
        "id": "9axTseVxwGuc"
      }
    },
    {
      "cell_type": "code",
      "source": [
        "l = [2, 4, 6, 8, 10, 12, 14, 16, 18, 20]\n",
        "\n",
        "# Create an iterator from list object\n",
        "it = iter(l)\n",
        "\n",
        "# Use next method to get next item from iterator\n",
        "for i in range(5):\n",
        "    print(next(it))"
      ],
      "metadata": {
        "colab": {
          "base_uri": "https://localhost:8080/"
        },
        "id": "N0Dxy35BwbhF",
        "outputId": "b49781d5-cd88-4442-8d9a-68fbfb248533"
      },
      "execution_count": 6,
      "outputs": [
        {
          "output_type": "stream",
          "name": "stdout",
          "text": [
            "2\n",
            "4\n",
            "6\n",
            "8\n",
            "10\n"
          ]
        }
      ]
    },
    {
      "cell_type": "markdown",
      "source": [
        "Q4. What is a generator function in python? Why yield keyword is used? Give an example of a generator\n",
        "function."
      ],
      "metadata": {
        "id": "A2kkWqh5wduN"
      }
    },
    {
      "cell_type": "markdown",
      "source": [
        "Answer:-\n",
        "\n",
        "A generator function is a special type of function in Python that allows you to create an iterator. Unlike regular functions that return a single value and terminate, generator functions use the yield keyword to return a value and pause their execution, allowing them to be resumed later. This makes them useful for generating sequences of values over time without storing the entire sequence in memory.\n",
        "\n",
        "The yield keyword is used in generator functions to:\n",
        "\n",
        "Produce a value: When the function encounters yield, it returns the value to the caller.\n",
        "\n",
        "Pause execution: The function's state is saved, allowing it to resume from the same point when called again.\n",
        "\n",
        "Create an iterator: This allows for lazy evaluation, meaning values are generated on-the-fly as needed, which is memory efficient."
      ],
      "metadata": {
        "id": "nEDEBEX2wdrA"
      }
    },
    {
      "cell_type": "code",
      "source": [
        "def fibonacci_sequence(limit):\n",
        "    a, b = 0, 1\n",
        "    while a < limit:\n",
        "        yield a\n",
        "        a, b = b, a + b\n",
        "\n",
        "fib = fibonacci_sequence(20)\n",
        "\n",
        "print(\"Fibonacci sequence:\")\n",
        "for number in fib:\n",
        "    print(number)"
      ],
      "metadata": {
        "colab": {
          "base_uri": "https://localhost:8080/"
        },
        "id": "dNIW73MoxVSS",
        "outputId": "9f52b62d-4398-4891-8d56-a9f2fd18948e"
      },
      "execution_count": 7,
      "outputs": [
        {
          "output_type": "stream",
          "name": "stdout",
          "text": [
            "Fibonacci sequence:\n",
            "0\n",
            "1\n",
            "1\n",
            "2\n",
            "3\n",
            "5\n",
            "8\n",
            "13\n"
          ]
        }
      ]
    },
    {
      "cell_type": "markdown",
      "source": [
        "Q5. Create a generator function for prime numbers less than 1000. Use the next() method to print the\n",
        "first 20 prime numbers."
      ],
      "metadata": {
        "id": "1gCLN0GPxZZV"
      }
    },
    {
      "cell_type": "markdown",
      "source": [
        "Answer:-\n",
        "\n",
        "Here’s a simple explanation and implementation of a generator function that produces prime numbers less than 1000, along with how to use the next() method to print the first 20 prime numbers.\n",
        "\n",
        "Generator Function for Prime Numbers\n",
        "\n",
        "A generator function can be created to yield prime numbers. Below is the code:\n",
        "\n"
      ],
      "metadata": {
        "id": "BlgMNu5CxaGf"
      }
    },
    {
      "cell_type": "code",
      "source": [
        "def is_prime(num):\n",
        "    \"\"\"Check if a number is prime.\"\"\"\n",
        "    if num < 2:\n",
        "        return False\n",
        "    for i in range(2, int(num**0.5) + 1):\n",
        "        if num % i == 0:\n",
        "            return False\n",
        "    return True\n",
        "\n",
        "def generate_primes(limit):\n",
        "    \"\"\"Generator function to yield prime numbers less than the specified limit.\"\"\"\n",
        "    for num in range(2, limit):\n",
        "        if is_prime(num):\n",
        "            yield num  # Yield the prime number\n",
        "\n",
        "# Create a generator object for prime numbers less than 1000\n",
        "prime_gen = generate_primes(1000)\n",
        "\n",
        "# Print the first 20 prime numbers using next()\n",
        "for _ in range(20):\n",
        "    print(next(prime_gen))"
      ],
      "metadata": {
        "colab": {
          "base_uri": "https://localhost:8080/"
        },
        "id": "0ntEfe5Jyeo_",
        "outputId": "0e52f8f4-54fa-4bf2-83ba-fcc59af91b54"
      },
      "execution_count": 8,
      "outputs": [
        {
          "output_type": "stream",
          "name": "stdout",
          "text": [
            "2\n",
            "3\n",
            "5\n",
            "7\n",
            "11\n",
            "13\n",
            "17\n",
            "19\n",
            "23\n",
            "29\n",
            "31\n",
            "37\n",
            "41\n",
            "43\n",
            "47\n",
            "53\n",
            "59\n",
            "61\n",
            "67\n",
            "71\n"
          ]
        }
      ]
    },
    {
      "cell_type": "markdown",
      "source": [
        "Q6. Write a python program to print the first 10 Fibonacci numbers using a while loop."
      ],
      "metadata": {
        "id": "viHPH0IuyeKB"
      }
    },
    {
      "cell_type": "markdown",
      "source": [
        "Answer:-"
      ],
      "metadata": {
        "id": "85GH2xicyoHn"
      }
    },
    {
      "cell_type": "code",
      "source": [
        "a, b = 0, 1\n",
        "count = 0\n",
        "\n",
        "while count < 10:\n",
        "    print(a)\n",
        "    a, b = b, a + b\n",
        "    count += 1"
      ],
      "metadata": {
        "colab": {
          "base_uri": "https://localhost:8080/"
        },
        "id": "rdq1B94ry2ec",
        "outputId": "f2ecf5be-c57b-4c79-ba3d-a7cedd4b954f"
      },
      "execution_count": 9,
      "outputs": [
        {
          "output_type": "stream",
          "name": "stdout",
          "text": [
            "0\n",
            "1\n",
            "1\n",
            "2\n",
            "3\n",
            "5\n",
            "8\n",
            "13\n",
            "21\n",
            "34\n"
          ]
        }
      ]
    },
    {
      "cell_type": "markdown",
      "source": [
        "Q7. Write a List Comprehension to iterate through the given string: ‘pwskills’.\n",
        "Expected output: ['p', 'w', 's', 'k', 'i', 'l', 'l', 's']"
      ],
      "metadata": {
        "id": "ejv9-IIJy5o0"
      }
    },
    {
      "cell_type": "markdown",
      "source": [
        "Answer:-"
      ],
      "metadata": {
        "id": "I5tE9nwxy6CP"
      }
    },
    {
      "cell_type": "code",
      "source": [
        "string = 'pwskills'\n",
        "characters = [char for char in string]\n",
        "print(characters)"
      ],
      "metadata": {
        "colab": {
          "base_uri": "https://localhost:8080/"
        },
        "id": "IgYXhPl7zArr",
        "outputId": "24d4bcf3-9900-42b3-b162-f50e686cc114"
      },
      "execution_count": 10,
      "outputs": [
        {
          "output_type": "stream",
          "name": "stdout",
          "text": [
            "['p', 'w', 's', 'k', 'i', 'l', 'l', 's']\n"
          ]
        }
      ]
    },
    {
      "cell_type": "markdown",
      "source": [
        "Q8. Write a python program to check whether a given number is Palindrome or not using a while loop."
      ],
      "metadata": {
        "id": "gLfxD_rxzLQL"
      }
    },
    {
      "cell_type": "markdown",
      "source": [
        "Answer:-"
      ],
      "metadata": {
        "id": "99RzAf55zLyv"
      }
    },
    {
      "cell_type": "code",
      "source": [
        "def is_palindrome(num):\n",
        "    original = num\n",
        "    reverse = 0\n",
        "    while num > 0:\n",
        "        digit = num % 10\n",
        "        reverse = reverse * 10 + digit\n",
        "        num = num // 10\n",
        "    return original == reverse\n",
        "\n",
        "number = int(input(\"Enter a number: \"))\n",
        "if is_palindrome(number):\n",
        "    print(f\"{number} is a palindrome.\")\n",
        "else:\n",
        "    print(f\"{number} is not a palindrome.\")"
      ],
      "metadata": {
        "colab": {
          "base_uri": "https://localhost:8080/"
        },
        "id": "e7jQEfC3zbIE",
        "outputId": "b4b0adb9-12fd-40c6-82f8-1c036dfe8614"
      },
      "execution_count": 11,
      "outputs": [
        {
          "output_type": "stream",
          "name": "stdout",
          "text": [
            "Enter a number: 121\n",
            "121 is a palindrome.\n"
          ]
        }
      ]
    },
    {
      "cell_type": "markdown",
      "source": [
        "Q9. Write a code to print odd numbers from 1 to 100 using list comprehension.\n",
        "\n",
        "Note: Use a list comprehension to create a list from 1 to 100 and use another List comprehension to filter\n",
        "out odd numbers."
      ],
      "metadata": {
        "id": "JQim66PXzq8D"
      }
    },
    {
      "cell_type": "markdown",
      "source": [
        "Answer:-"
      ],
      "metadata": {
        "id": "uQ41Uiibzs2d"
      }
    },
    {
      "cell_type": "code",
      "source": [
        "# Create a list of numbers from 1 to 100\n",
        "numbers = [num for num in range(1, 101)]\n",
        "\n",
        "# Use list comprehension to filter out odd numbers\n",
        "odd_numbers = [num for num in numbers if num % 2 != 0]\n",
        "\n",
        "# Print the list of odd numbers\n",
        "print(odd_numbers)"
      ],
      "metadata": {
        "colab": {
          "base_uri": "https://localhost:8080/"
        },
        "id": "JeNcvg0bzvYz",
        "outputId": "acf6fa0a-21b6-47b9-b657-99186e507830"
      },
      "execution_count": 12,
      "outputs": [
        {
          "output_type": "stream",
          "name": "stdout",
          "text": [
            "[1, 3, 5, 7, 9, 11, 13, 15, 17, 19, 21, 23, 25, 27, 29, 31, 33, 35, 37, 39, 41, 43, 45, 47, 49, 51, 53, 55, 57, 59, 61, 63, 65, 67, 69, 71, 73, 75, 77, 79, 81, 83, 85, 87, 89, 91, 93, 95, 97, 99]\n"
          ]
        }
      ]
    }
  ]
}